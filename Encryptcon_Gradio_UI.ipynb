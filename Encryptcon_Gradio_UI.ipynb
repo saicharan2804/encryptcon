{
  "nbformat": 4,
  "nbformat_minor": 0,
  "metadata": {
    "colab": {
      "provenance": []
    },
    "kernelspec": {
      "name": "python3",
      "display_name": "Python 3"
    },
    "language_info": {
      "name": "python"
    }
  },
  "cells": [
    {
      "cell_type": "code",
      "source": [
        "from google.colab import drive\n",
        "drive.mount('/content/drive')"
      ],
      "metadata": {
        "id": "EThtn4LScshB",
        "colab": {
          "base_uri": "https://localhost:8080/"
        },
        "outputId": "c4dff725-a145-478f-c63a-9e6373c6f8ab"
      },
      "execution_count": null,
      "outputs": [
        {
          "output_type": "stream",
          "name": "stdout",
          "text": [
            "Drive already mounted at /content/drive; to attempt to forcibly remount, call drive.mount(\"/content/drive\", force_remount=True).\n"
          ]
        }
      ]
    },
    {
      "cell_type": "code",
      "execution_count": null,
      "metadata": {
        "id": "v8zNvndse-Ys",
        "colab": {
          "base_uri": "https://localhost:8080/"
        },
        "outputId": "5ba84e47-23a9-416e-ce84-4b82263989c0"
      },
      "outputs": [
        {
          "output_type": "stream",
          "name": "stdout",
          "text": [
            "Requirement already satisfied: gradio in /usr/local/lib/python3.10/dist-packages (4.13.0)\n",
            "Requirement already satisfied: aiofiles<24.0,>=22.0 in /usr/local/lib/python3.10/dist-packages (from gradio) (23.2.1)\n",
            "Requirement already satisfied: altair<6.0,>=4.2.0 in /usr/local/lib/python3.10/dist-packages (from gradio) (4.2.2)\n",
            "Requirement already satisfied: fastapi in /usr/local/lib/python3.10/dist-packages (from gradio) (0.108.0)\n",
            "Requirement already satisfied: ffmpy in /usr/local/lib/python3.10/dist-packages (from gradio) (0.3.1)\n",
            "Requirement already satisfied: gradio-client==0.8.0 in /usr/local/lib/python3.10/dist-packages (from gradio) (0.8.0)\n",
            "Requirement already satisfied: httpx in /usr/local/lib/python3.10/dist-packages (from gradio) (0.26.0)\n",
            "Requirement already satisfied: huggingface-hub>=0.19.3 in /usr/local/lib/python3.10/dist-packages (from gradio) (0.19.4)\n",
            "Requirement already satisfied: importlib-resources<7.0,>=1.3 in /usr/local/lib/python3.10/dist-packages (from gradio) (6.1.1)\n",
            "Requirement already satisfied: jinja2<4.0 in /usr/local/lib/python3.10/dist-packages (from gradio) (3.1.2)\n",
            "Requirement already satisfied: markupsafe~=2.0 in /usr/local/lib/python3.10/dist-packages (from gradio) (2.1.3)\n",
            "Requirement already satisfied: matplotlib~=3.0 in /usr/local/lib/python3.10/dist-packages (from gradio) (3.7.1)\n",
            "Requirement already satisfied: numpy~=1.0 in /usr/local/lib/python3.10/dist-packages (from gradio) (1.23.5)\n",
            "Requirement already satisfied: orjson~=3.0 in /usr/local/lib/python3.10/dist-packages (from gradio) (3.9.10)\n",
            "Requirement already satisfied: packaging in /usr/local/lib/python3.10/dist-packages (from gradio) (23.2)\n",
            "Requirement already satisfied: pandas<3.0,>=1.0 in /usr/local/lib/python3.10/dist-packages (from gradio) (1.5.3)\n",
            "Requirement already satisfied: pillow<11.0,>=8.0 in /usr/local/lib/python3.10/dist-packages (from gradio) (9.4.0)\n",
            "Requirement already satisfied: pydantic>=2.0 in /usr/local/lib/python3.10/dist-packages (from gradio) (2.5.3)\n",
            "Requirement already satisfied: pydub in /usr/local/lib/python3.10/dist-packages (from gradio) (0.25.1)\n",
            "Requirement already satisfied: python-multipart in /usr/local/lib/python3.10/dist-packages (from gradio) (0.0.6)\n",
            "Requirement already satisfied: pyyaml<7.0,>=5.0 in /usr/local/lib/python3.10/dist-packages (from gradio) (6.0.1)\n",
            "Requirement already satisfied: semantic-version~=2.0 in /usr/local/lib/python3.10/dist-packages (from gradio) (2.10.0)\n",
            "Requirement already satisfied: tomlkit==0.12.0 in /usr/local/lib/python3.10/dist-packages (from gradio) (0.12.0)\n",
            "Requirement already satisfied: typer[all]<1.0,>=0.9 in /usr/local/lib/python3.10/dist-packages (from gradio) (0.9.0)\n",
            "Requirement already satisfied: typing-extensions~=4.0 in /usr/local/lib/python3.10/dist-packages (from gradio) (4.9.0)\n",
            "Requirement already satisfied: uvicorn>=0.14.0 in /usr/local/lib/python3.10/dist-packages (from gradio) (0.25.0)\n",
            "Requirement already satisfied: fsspec in /usr/local/lib/python3.10/dist-packages (from gradio-client==0.8.0->gradio) (2023.6.0)\n",
            "Requirement already satisfied: websockets<12.0,>=10.0 in /usr/local/lib/python3.10/dist-packages (from gradio-client==0.8.0->gradio) (11.0.3)\n",
            "Requirement already satisfied: entrypoints in /usr/local/lib/python3.10/dist-packages (from altair<6.0,>=4.2.0->gradio) (0.4)\n",
            "Requirement already satisfied: jsonschema>=3.0 in /usr/local/lib/python3.10/dist-packages (from altair<6.0,>=4.2.0->gradio) (4.19.2)\n",
            "Requirement already satisfied: toolz in /usr/local/lib/python3.10/dist-packages (from altair<6.0,>=4.2.0->gradio) (0.12.0)\n",
            "Requirement already satisfied: filelock in /usr/local/lib/python3.10/dist-packages (from huggingface-hub>=0.19.3->gradio) (3.13.1)\n",
            "Requirement already satisfied: requests in /usr/local/lib/python3.10/dist-packages (from huggingface-hub>=0.19.3->gradio) (2.31.0)\n",
            "Requirement already satisfied: tqdm>=4.42.1 in /usr/local/lib/python3.10/dist-packages (from huggingface-hub>=0.19.3->gradio) (4.66.1)\n",
            "Requirement already satisfied: contourpy>=1.0.1 in /usr/local/lib/python3.10/dist-packages (from matplotlib~=3.0->gradio) (1.2.0)\n",
            "Requirement already satisfied: cycler>=0.10 in /usr/local/lib/python3.10/dist-packages (from matplotlib~=3.0->gradio) (0.12.1)\n",
            "Requirement already satisfied: fonttools>=4.22.0 in /usr/local/lib/python3.10/dist-packages (from matplotlib~=3.0->gradio) (4.46.0)\n",
            "Requirement already satisfied: kiwisolver>=1.0.1 in /usr/local/lib/python3.10/dist-packages (from matplotlib~=3.0->gradio) (1.4.5)\n",
            "Requirement already satisfied: pyparsing>=2.3.1 in /usr/local/lib/python3.10/dist-packages (from matplotlib~=3.0->gradio) (3.1.1)\n",
            "Requirement already satisfied: python-dateutil>=2.7 in /usr/local/lib/python3.10/dist-packages (from matplotlib~=3.0->gradio) (2.8.2)\n",
            "Requirement already satisfied: pytz>=2020.1 in /usr/local/lib/python3.10/dist-packages (from pandas<3.0,>=1.0->gradio) (2023.3.post1)\n",
            "Requirement already satisfied: annotated-types>=0.4.0 in /usr/local/lib/python3.10/dist-packages (from pydantic>=2.0->gradio) (0.6.0)\n",
            "Requirement already satisfied: pydantic-core==2.14.6 in /usr/local/lib/python3.10/dist-packages (from pydantic>=2.0->gradio) (2.14.6)\n",
            "Requirement already satisfied: click<9.0.0,>=7.1.1 in /usr/local/lib/python3.10/dist-packages (from typer[all]<1.0,>=0.9->gradio) (8.1.7)\n",
            "Requirement already satisfied: colorama<0.5.0,>=0.4.3 in /usr/local/lib/python3.10/dist-packages (from typer[all]<1.0,>=0.9->gradio) (0.4.6)\n",
            "Requirement already satisfied: shellingham<2.0.0,>=1.3.0 in /usr/local/lib/python3.10/dist-packages (from typer[all]<1.0,>=0.9->gradio) (1.5.4)\n",
            "Requirement already satisfied: rich<14.0.0,>=10.11.0 in /usr/local/lib/python3.10/dist-packages (from typer[all]<1.0,>=0.9->gradio) (13.7.0)\n",
            "Requirement already satisfied: h11>=0.8 in /usr/local/lib/python3.10/dist-packages (from uvicorn>=0.14.0->gradio) (0.14.0)\n",
            "Requirement already satisfied: starlette<0.33.0,>=0.29.0 in /usr/local/lib/python3.10/dist-packages (from fastapi->gradio) (0.32.0.post1)\n",
            "Requirement already satisfied: anyio in /usr/local/lib/python3.10/dist-packages (from httpx->gradio) (3.7.1)\n",
            "Requirement already satisfied: certifi in /usr/local/lib/python3.10/dist-packages (from httpx->gradio) (2023.11.17)\n",
            "Requirement already satisfied: httpcore==1.* in /usr/local/lib/python3.10/dist-packages (from httpx->gradio) (1.0.2)\n",
            "Requirement already satisfied: idna in /usr/local/lib/python3.10/dist-packages (from httpx->gradio) (3.6)\n",
            "Requirement already satisfied: sniffio in /usr/local/lib/python3.10/dist-packages (from httpx->gradio) (1.3.0)\n",
            "Requirement already satisfied: attrs>=22.2.0 in /usr/local/lib/python3.10/dist-packages (from jsonschema>=3.0->altair<6.0,>=4.2.0->gradio) (23.1.0)\n",
            "Requirement already satisfied: jsonschema-specifications>=2023.03.6 in /usr/local/lib/python3.10/dist-packages (from jsonschema>=3.0->altair<6.0,>=4.2.0->gradio) (2023.11.2)\n",
            "Requirement already satisfied: referencing>=0.28.4 in /usr/local/lib/python3.10/dist-packages (from jsonschema>=3.0->altair<6.0,>=4.2.0->gradio) (0.31.1)\n",
            "Requirement already satisfied: rpds-py>=0.7.1 in /usr/local/lib/python3.10/dist-packages (from jsonschema>=3.0->altair<6.0,>=4.2.0->gradio) (0.13.2)\n",
            "Requirement already satisfied: six>=1.5 in /usr/local/lib/python3.10/dist-packages (from python-dateutil>=2.7->matplotlib~=3.0->gradio) (1.16.0)\n",
            "Requirement already satisfied: markdown-it-py>=2.2.0 in /usr/local/lib/python3.10/dist-packages (from rich<14.0.0,>=10.11.0->typer[all]<1.0,>=0.9->gradio) (3.0.0)\n",
            "Requirement already satisfied: pygments<3.0.0,>=2.13.0 in /usr/local/lib/python3.10/dist-packages (from rich<14.0.0,>=10.11.0->typer[all]<1.0,>=0.9->gradio) (2.16.1)\n",
            "Requirement already satisfied: exceptiongroup in /usr/local/lib/python3.10/dist-packages (from anyio->httpx->gradio) (1.2.0)\n",
            "Requirement already satisfied: charset-normalizer<4,>=2 in /usr/local/lib/python3.10/dist-packages (from requests->huggingface-hub>=0.19.3->gradio) (3.3.2)\n",
            "Requirement already satisfied: urllib3<3,>=1.21.1 in /usr/local/lib/python3.10/dist-packages (from requests->huggingface-hub>=0.19.3->gradio) (2.0.7)\n",
            "Requirement already satisfied: mdurl~=0.1 in /usr/local/lib/python3.10/dist-packages (from markdown-it-py>=2.2.0->rich<14.0.0,>=10.11.0->typer[all]<1.0,>=0.9->gradio) (0.1.2)\n"
          ]
        }
      ],
      "source": [
        "!pip install gradio"
      ]
    },
    {
      "cell_type": "code",
      "source": [
        "default_gainers = [\n",
        "    [\"Sah Wind Power Plant\", \"$1,902\", \"11.2%\"],\n",
        "    [\"Capricorn Ridge 4 Wind Farm\", \"$2,005\", \"21.0%\"],\n",
        "    [\"Winchester Landfill Gas Project\", \"$3,090\", \"27.6%\"],\n",
        "]\n",
        "\n",
        "default_losers = [\n",
        "    [\"KARIBA REDD+ PROJECT\", \"$2,254\", \"-10.4%\"],\n",
        "    [\"Rio Bravo Climate Action Project\", \"$5,021\", \"-12.0%\"],\n",
        "    [\"Mariposas Hydroelectric Project\", \"$3,077\", \"-13.3%\"],\n",
        "]\n",
        "\n",
        "carbonCreditPlot = \"/content/drive/MyDrive/PDDs for training/Finance images/img1stock.png\"\n",
        "\n",
        "CarbonCreditRisk = [['Carbon Credit Risk','8.2/10']]\n",
        "\n",
        "countries = ['Belize', 'Brazil', 'Cambodia', 'Chile', 'China', 'DRC', 'India', 'Indonesia', 'Kenya', 'Mexico', 'Peru', 'Taiwan', 'Turkey', 'United States', 'Zambia', 'Zimbabwe']\n"
      ],
      "metadata": {
        "id": "4PYKfayBYKTm"
      },
      "execution_count": null,
      "outputs": []
    },
    {
      "cell_type": "code",
      "source": [
        "import gradio as gr\n",
        "\n",
        "# Placeholder function to simulate analysis of the uploaded document and parameters\n",
        "def analyze_project(document=None, project_type='all', methodology='all', status='all', country_area='all', region='all', crediting_period='all', buffer='all', leakage='all'):\n",
        "    print(type(project_type))\n",
        "    # if document == None and not (project_type!='all' or methodology!='all' or status!='all' or country_area!='all' or region!='all' or crediting_period!='all' or buffer!='all' or leakage!='all'):\n",
        "    #   return carbonCreditPlot, default_gainers, default_losers, CarbonCreditRisk\n",
        "    if document!= None:\n",
        "      predictive_analysis_image = \"/content/drive/MyDrive/PDDs for training/Finance images/img2stock.png\"\n",
        "      associated_risks = [['Project Investment Risk','5.2/10']]  # Placeholder risks\n",
        "\n",
        "    if project_type!='all' or methodology!='all' or status!='all' or country_area!='all' or region!='all' or crediting_period!='all' or buffer!='all' or leakage!='all':\n",
        "      # Placeholder for processing the document and parameters\n",
        "      # This would be where the model processes the input and generates output\n",
        "      # Currently returning placeholder values\n",
        "      top_gainers = [\n",
        "          [\"Rimba Raya Biodiversity Reserve Project\", \"$1,904\", \"22.1%\"],\n",
        "          [\"Ceará Renewable Energy Bundled Project\", \"$5,043\", \"11.2%\"],\n",
        "          [\"Cordillera Azul National Park REDD Project\", \"$6,000\", \"8.7%\"],\n",
        "      ]\n",
        "      top_losers = [\n",
        "          [\"Soma-Polat Wind Farm Project\", \"$1,013\", \"-17.3%\"],\n",
        "          [\"Bandirma-3 WPP\", \"$2,097\", \"-13.6%\"],\n",
        "          [\"Mersin Wind Farm Project\", \"$2,003\", \"-9.2%\"],\n",
        "      ]\n",
        "\n",
        "    if document != None and (project_type!='all' or methodology!='all' or status!='all' or country_area!='all' or region!='all' or crediting_period!='all' or buffer!='all' or leakage!='all'):\n",
        "      return predictive_analysis_image, top_gainers, top_losers, associated_risks\n",
        "    if document!= None:\n",
        "      return predictive_analysis_image, default_gainers, default_losers, CarbonCreditRisk\n",
        "    if project_type!='all' or methodology!='all' or status!='all' or country_area!='all' or region!='all' or crediting_period!='all' or buffer!='all' or leakage!='all':\n",
        "      return carbonCreditPlot, top_gainers, top_losers, CarbonCreditRisk\n",
        "    return carbonCreditPlot, default_gainers, default_losers, CarbonCreditRisk\n",
        "\n",
        "\n",
        "\n",
        "\n",
        "# Creating the Gradio Interface\n",
        "with gr.Blocks(theme=gr.themes.Soft()) as app:\n",
        "    with gr.Column():\n",
        "        gr.Markdown(\"# Carbon Market Project Analysis\")\n",
        "        gr.Markdown(\"Upload a project design document and set filters and parameters for predictive and risk analysis.\")\n",
        "\n",
        "        with gr.Column(scale=1):  # Adjust the scale to reduce the width of the column\n",
        "            file_input = gr.File(label=\"Upload Project Design Document\")\n",
        "        with gr.Row():\n",
        "\n",
        "          with gr.Column(scale=1):\n",
        "              project_type_input = gr.Dropdown(label=\"Project Type\", choices=[\"Type 1\", \"Type 2\", \"Type 3\"])\n",
        "              methodology_input = gr.Dropdown(label=\"Methodology\", choices=[\"Method 1\", \"Method 2\", \"Method 3\"])\n",
        "              status_input = gr.Dropdown(label=\"Status\", choices=[\"Active\", \"Completed\", \"Pending\"])\n",
        "              country_area_input = gr.Dropdown(label=\"Country\", choices=countries)\n",
        "              # region_input = gr.Textbox(label=\"Region\")\n",
        "              crediting_period_input = gr.Slider(label=\"Crediting Period\", minimum=5, maximum=40, step=5)\n",
        "              buffer_input = gr.Slider(label=\"Buffer (%)\", minimum=0, maximum=20, step=1)\n",
        "              leakage_input = gr.Slider(label=\"Leakage (%)\", minimum=0, maximum=20, step=1)\n",
        "              analyze_button = gr.Button(\"Analyze\")\n",
        "          with gr.Column(scale=3):\n",
        "              output_image = gr.Image(label=\"Predictive Analysis Plot\", value = carbonCreditPlot)\n",
        "              output_risks = gr.Dataframe(value=CarbonCreditRisk, headers = [\"Risk Metric\", \"Project Score\"])\n",
        "              with gr.Row():\n",
        "                with gr.Column():\n",
        "                    gr.Markdown(\"### Top Gainers\")\n",
        "                    output_gainers = gr.Dataframe(value=default_gainers, headers = [\"Project\", \"Price\", \"Change\"])\n",
        "                with gr.Column():\n",
        "                    gr.Markdown(\"### Top Losers\")\n",
        "                    output_losers = gr.Dataframe(value=default_losers, headers = [\"Project\", \"Price\", \"Change\"])\n",
        "\n",
        "\n",
        "\n",
        "    analyze_button.click(\n",
        "        analyze_project,\n",
        "        inputs=[file_input, project_type_input, methodology_input, status_input, country_area_input, crediting_period_input, buffer_input, leakage_input],\n",
        "        outputs=[output_image, output_gainers, output_losers, output_risks]\n",
        "    )\n",
        "\n",
        "# To launch the app, you can use the following line in your local setup:\n",
        "app.launch(debug=True)\n"
      ],
      "metadata": {
        "colab": {
          "base_uri": "https://localhost:8080/",
          "height": 643
        },
        "id": "mN_2xGt3iX6G",
        "outputId": "bb3a28ee-ede4-4e50-f438-95579cfb2157"
      },
      "execution_count": null,
      "outputs": [
        {
          "output_type": "stream",
          "name": "stdout",
          "text": [
            "Setting queue=True in a Colab notebook requires sharing enabled. Setting `share=True` (you can turn this off by setting `share=False` in `launch()` explicitly).\n",
            "\n",
            "Colab notebook detected. This cell will run indefinitely so that you can see errors and logs. To turn off, set debug=False in launch().\n",
            "Running on public URL: https://78bce863111d0d1e6f.gradio.live\n",
            "\n",
            "This share link expires in 72 hours. For free permanent hosting and GPU upgrades, run `gradio deploy` from Terminal to deploy to Spaces (https://huggingface.co/spaces)\n"
          ]
        },
        {
          "output_type": "display_data",
          "data": {
            "text/plain": [
              "<IPython.core.display.HTML object>"
            ],
            "text/html": [
              "<div><iframe src=\"https://78bce863111d0d1e6f.gradio.live\" width=\"100%\" height=\"500\" allow=\"autoplay; camera; microphone; clipboard-read; clipboard-write;\" frameborder=\"0\" allowfullscreen></iframe></div>"
            ]
          },
          "metadata": {}
        },
        {
          "output_type": "stream",
          "name": "stdout",
          "text": [
            "<class 'list'>\n"
          ]
        }
      ]
    }
  ]
}