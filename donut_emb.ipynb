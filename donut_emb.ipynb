{
  "nbformat": 4,
  "nbformat_minor": 0,
  "metadata": {
    "colab": {
      "provenance": [],
      "authorship_tag": "ABX9TyOgc0lhWcQmOu91uW0g3h1B",
      "include_colab_link": true
    },
    "kernelspec": {
      "name": "python3",
      "display_name": "Python 3"
    },
    "language_info": {
      "name": "python"
    }
  },
  "cells": [
    {
      "cell_type": "markdown",
      "metadata": {
        "id": "view-in-github",
        "colab_type": "text"
      },
      "source": [
        "<a href=\"https://colab.research.google.com/github/saicharan2804/encryptcon/blob/main/donut_emb.ipynb\" target=\"_parent\"><img src=\"https://colab.research.google.com/assets/colab-badge.svg\" alt=\"Open In Colab\"/></a>"
      ]
    },
    {
      "cell_type": "code",
      "execution_count": null,
      "metadata": {
        "id": "jXJjmFr2NWDy"
      },
      "outputs": [],
      "source": [
        "from transformers import DonutProcessor, VisionEncoderDecoderModel\n",
        "from pdf2image import convert_from_path\n",
        "import torch\n",
        "import pandas as pd"
      ]
    },
    {
      "cell_type": "code",
      "source": [
        "def convert_pdf_to_images(pdf_path):\n",
        "    return convert_from_path(pdf_path)"
      ],
      "metadata": {
        "id": "VUfJGwqLNzTv"
      },
      "execution_count": null,
      "outputs": []
    },
    {
      "cell_type": "code",
      "source": [
        "def get_concatenated_representation(pdf_path, processor, model):\n",
        "    image_array = convert_pdf_to_images(pdf_path)\n",
        "    concatenated_outputs = []\n",
        "    for image in image_array:\n",
        "        pixel_values = processor(image, return_tensors=\"pt\").pixel_values.to(model.device)\n",
        "        outputs = model.encoder(pixel_values)\n",
        "        concatenated_outputs.append(outputs.pooler_output)\n",
        "    return torch.cat(concatenated_outputs, dim=1)"
      ],
      "metadata": {
        "id": "IeOmV9TrN3Qr"
      },
      "execution_count": null,
      "outputs": []
    },
    {
      "cell_type": "code",
      "source": [
        "processor = DonutProcessor.from_pretrained(\"naver-clova-ix/donut-base-finetuned-cord-v2\")\n",
        "model = VisionEncoderDecoderModel.from_pretrained(\"naver-clova-ix/donut-base-finetuned-cord-v2\")\n",
        "model.to(\"cuda\" if torch.cuda.is_available() else \"cpu\")"
      ],
      "metadata": {
        "id": "eSY2TSffN6MV"
      },
      "execution_count": null,
      "outputs": []
    },
    {
      "cell_type": "code",
      "source": [
        "pdd_folder_path = 'path_to_pdf_folder'"
      ],
      "metadata": {
        "id": "QghXH2EQN95d"
      },
      "execution_count": null,
      "outputs": []
    }
  ]
}